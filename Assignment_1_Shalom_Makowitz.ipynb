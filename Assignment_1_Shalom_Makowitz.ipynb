{
  "cells": [
    {
      "cell_type": "markdown",
      "metadata": {
        "id": "mHDRdFg0lM4l"
      },
      "source": [
        "Problem 1"
      ]
    },
    {
      "cell_type": "markdown",
      "metadata": {
        "id": "BHeS1AIZqw0n"
      },
      "source": [
        "The accompanying data set contains three numerical variables, x1, x2, and x3."
      ]
    },
    {
      "cell_type": "code",
      "execution_count": 2,
      "metadata": {
        "colab": {
          "base_uri": "https://localhost:8080/",
          "height": 363
        },
        "id": "sBysc_stldRl",
        "outputId": "edc3c50b-bfec-4c1a-e197-15e7a25ab477"
      },
      "outputs": [
        {
          "data": {
            "text/html": [
              "<div>\n",
              "<style scoped>\n",
              "    .dataframe tbody tr th:only-of-type {\n",
              "        vertical-align: middle;\n",
              "    }\n",
              "\n",
              "    .dataframe tbody tr th {\n",
              "        vertical-align: top;\n",
              "    }\n",
              "\n",
              "    .dataframe thead th {\n",
              "        text-align: right;\n",
              "    }\n",
              "</style>\n",
              "<table border=\"1\" class=\"dataframe\">\n",
              "  <thead>\n",
              "    <tr style=\"text-align: right;\">\n",
              "      <th></th>\n",
              "      <th>Observation</th>\n",
              "      <th>x1</th>\n",
              "      <th>x2</th>\n",
              "      <th>x3</th>\n",
              "    </tr>\n",
              "  </thead>\n",
              "  <tbody>\n",
              "    <tr>\n",
              "      <th>0</th>\n",
              "      <td>1</td>\n",
              "      <td>33.0</td>\n",
              "      <td>371.0</td>\n",
              "      <td>189.0</td>\n",
              "    </tr>\n",
              "    <tr>\n",
              "      <th>1</th>\n",
              "      <td>2</td>\n",
              "      <td>28.0</td>\n",
              "      <td>752.0</td>\n",
              "      <td>NaN</td>\n",
              "    </tr>\n",
              "    <tr>\n",
              "      <th>2</th>\n",
              "      <td>3</td>\n",
              "      <td>24.0</td>\n",
              "      <td>673.0</td>\n",
              "      <td>204.0</td>\n",
              "    </tr>\n",
              "    <tr>\n",
              "      <th>3</th>\n",
              "      <td>4</td>\n",
              "      <td>17.0</td>\n",
              "      <td>NaN</td>\n",
              "      <td>151.0</td>\n",
              "    </tr>\n",
              "    <tr>\n",
              "      <th>4</th>\n",
              "      <td>5</td>\n",
              "      <td>20.0</td>\n",
              "      <td>66.0</td>\n",
              "      <td>191.0</td>\n",
              "    </tr>\n",
              "    <tr>\n",
              "      <th>...</th>\n",
              "      <td>...</td>\n",
              "      <td>...</td>\n",
              "      <td>...</td>\n",
              "      <td>...</td>\n",
              "    </tr>\n",
              "    <tr>\n",
              "      <th>86</th>\n",
              "      <td>87</td>\n",
              "      <td>18.0</td>\n",
              "      <td>412.0</td>\n",
              "      <td>137.0</td>\n",
              "    </tr>\n",
              "    <tr>\n",
              "      <th>87</th>\n",
              "      <td>88</td>\n",
              "      <td>28.0</td>\n",
              "      <td>629.0</td>\n",
              "      <td>139.0</td>\n",
              "    </tr>\n",
              "    <tr>\n",
              "      <th>88</th>\n",
              "      <td>89</td>\n",
              "      <td>22.0</td>\n",
              "      <td>167.0</td>\n",
              "      <td>125.0</td>\n",
              "    </tr>\n",
              "    <tr>\n",
              "      <th>89</th>\n",
              "      <td>90</td>\n",
              "      <td>35.0</td>\n",
              "      <td>842.0</td>\n",
              "      <td>126.0</td>\n",
              "    </tr>\n",
              "    <tr>\n",
              "      <th>90</th>\n",
              "      <td>91</td>\n",
              "      <td>38.0</td>\n",
              "      <td>180.0</td>\n",
              "      <td>151.0</td>\n",
              "    </tr>\n",
              "  </tbody>\n",
              "</table>\n",
              "<p>91 rows × 4 columns</p>\n",
              "</div>"
            ],
            "text/plain": [
              "    Observation    x1     x2     x3\n",
              "0             1  33.0  371.0  189.0\n",
              "1             2  28.0  752.0    NaN\n",
              "2             3  24.0  673.0  204.0\n",
              "3             4  17.0    NaN  151.0\n",
              "4             5  20.0   66.0  191.0\n",
              "..          ...   ...    ...    ...\n",
              "86           87  18.0  412.0  137.0\n",
              "87           88  28.0  629.0  139.0\n",
              "88           89  22.0  167.0  125.0\n",
              "89           90  35.0  842.0  126.0\n",
              "90           91  38.0  180.0  151.0\n",
              "\n",
              "[91 rows x 4 columns]"
            ]
          },
          "execution_count": 2,
          "metadata": {},
          "output_type": "execute_result"
        }
      ],
      "source": [
        "# load data (remember to upload the datafile you downloaded from connect to colab)\n",
        "import pandas as pd\n",
        "myData = pd.read_excel('Ch2_Q9_V19_Data_File.xlsx')\n",
        "myData"
      ]
    },
    {
      "cell_type": "markdown",
      "metadata": {
        "id": "PfEAOKCEq0L_"
      },
      "source": [
        "a. How many observations have x1 values greater than 30?"
      ]
    },
    {
      "cell_type": "code",
      "execution_count": 3,
      "metadata": {
        "id": "NEW5H_rfmK6m"
      },
      "outputs": [
        {
          "data": {
            "text/plain": [
              "Observation    17\n",
              "x1             17\n",
              "x2             17\n",
              "x3             17\n",
              "dtype: int64"
            ]
          },
          "execution_count": 3,
          "metadata": {},
          "output_type": "execute_result"
        }
      ],
      "source": [
        "# you can put .count() at the and of your query\n",
        "myData.query(\"x1 > 30\").count()"
      ]
    },
    {
      "cell_type": "markdown",
      "metadata": {
        "id": "emINeOZbq03e"
      },
      "source": [
        "b. Sort the data by x1, x2, and then x3 all in ascending order. What are the x1, x2, and x3 values of the first observation after the data are sorted?"
      ]
    },
    {
      "cell_type": "code",
      "execution_count": 4,
      "metadata": {
        "id": "HnVcYgO_nT-W"
      },
      "outputs": [
        {
          "ename": "NameError",
          "evalue": "name 'x1' is not defined",
          "output_type": "error",
          "traceback": [
            "\u001b[1;31m---------------------------------------------------------------------------\u001b[0m",
            "\u001b[1;31mNameError\u001b[0m                                 Traceback (most recent call last)",
            "\u001b[1;32m~\\AppData\\Local\\Temp/ipykernel_28732/2970240765.py\u001b[0m in \u001b[0;36m<module>\u001b[1;34m\u001b[0m\n\u001b[1;32m----> 1\u001b[1;33m \u001b[0mmyData\u001b[0m\u001b[1;33m.\u001b[0m\u001b[0msort_values\u001b[0m\u001b[1;33m(\u001b[0m\u001b[0mx1\u001b[0m\u001b[1;33m,\u001b[0m \u001b[0mascending\u001b[0m \u001b[1;33m=\u001b[0m \u001b[1;32mFalse\u001b[0m\u001b[1;33m)\u001b[0m\u001b[1;33m\u001b[0m\u001b[1;33m\u001b[0m\u001b[0m\n\u001b[0m",
            "\u001b[1;31mNameError\u001b[0m: name 'x1' is not defined"
          ]
        }
      ],
      "source": [
        "myData.sort_values(x1, ascending = False)   "
      ]
    },
    {
      "cell_type": "markdown",
      "metadata": {
        "id": "LLxVceoPq2Nd"
      },
      "source": [
        "c. Sort the data by x1 and x2 both in descending order. What are the x1, x2, and x3 values of the first observation after the data are sorted?"
      ]
    },
    {
      "cell_type": "code",
      "execution_count": null,
      "metadata": {
        "id": "zI4OB2danZrt"
      },
      "outputs": [],
      "source": []
    },
    {
      "cell_type": "markdown",
      "metadata": {
        "id": "0vY3bmheq4f2"
      },
      "source": [
        "d. How many missing values are there in x1, x2, and x3?\n"
      ]
    },
    {
      "cell_type": "code",
      "execution_count": null,
      "metadata": {
        "id": "8XImJ1A6neQ4"
      },
      "outputs": [],
      "source": []
    },
    {
      "cell_type": "markdown",
      "metadata": {
        "id": "b4qs6H1wnv_v"
      },
      "source": [
        "Problem 2.\n",
        "\n",
        "The following table lists a portion of the average writing and math SAT scores for the 50 states as well as the District of Columbia, Puerto Rico, and the U.S. Virgin Islands for the year 2017 as reported by the College Board."
      ]
    },
    {
      "cell_type": "code",
      "execution_count": null,
      "metadata": {
        "id": "ya7LDYwPnynS"
      },
      "outputs": [],
      "source": [
        "# Load data\n"
      ]
    },
    {
      "cell_type": "markdown",
      "metadata": {
        "id": "OswLXO5ooEkm"
      },
      "source": [
        "a. Sort the data by writing scores in descending order. Which state has the highest average writing score? What is the average math score of that state?"
      ]
    },
    {
      "cell_type": "code",
      "execution_count": null,
      "metadata": {
        "id": "KF_3BUEBoRqW"
      },
      "outputs": [],
      "source": []
    },
    {
      "cell_type": "markdown",
      "metadata": {
        "id": "y0X6jBuLo-v_"
      },
      "source": [
        "b. Sort the data by math scores in ascending order. Which state has the lowest average math score? What is the average writing score of that state?"
      ]
    },
    {
      "cell_type": "code",
      "execution_count": null,
      "metadata": {
        "id": "FO8YlbOopBZQ"
      },
      "outputs": [],
      "source": []
    },
    {
      "cell_type": "markdown",
      "metadata": {
        "id": "AMarAd7kpcw1"
      },
      "source": [
        "c. How many states reported an average math score higher than 600?\n"
      ]
    },
    {
      "cell_type": "code",
      "execution_count": null,
      "metadata": {
        "id": "x1LrqoMNpcYO"
      },
      "outputs": [],
      "source": [
        "# remember to put .count() at the end\n"
      ]
    },
    {
      "cell_type": "markdown",
      "metadata": {
        "id": "Sr0aBeRApv3N"
      },
      "source": [
        "d. How many states reported an average writing score lower than 550?"
      ]
    },
    {
      "cell_type": "code",
      "execution_count": null,
      "metadata": {
        "id": "O-vJqya9p2BF"
      },
      "outputs": [],
      "source": []
    },
    {
      "cell_type": "markdown",
      "metadata": {
        "id": "o-peNEvQsxd5"
      },
      "source": [
        "Problem 3"
      ]
    },
    {
      "cell_type": "markdown",
      "metadata": {
        "id": "ROQWp-VUsyzH"
      },
      "source": [
        "Consider the information on annual income (Income in $1,000s), age, sex (F = female, M = male), and marital status (Married; Y = yes, N = no). A portion of the data is shown in the accompanying table."
      ]
    },
    {
      "cell_type": "code",
      "execution_count": null,
      "metadata": {
        "id": "wzr4BnAVs1R-"
      },
      "outputs": [],
      "source": [
        "# Load data\n",
        "\n"
      ]
    },
    {
      "cell_type": "markdown",
      "metadata": {
        "id": "DiibOaAWs0Mv"
      },
      "source": [
        "a. Count the number of males and females in the data."
      ]
    },
    {
      "cell_type": "code",
      "execution_count": null,
      "metadata": {
        "id": "el8yxbUZtBtg"
      },
      "outputs": [],
      "source": []
    },
    {
      "cell_type": "code",
      "execution_count": null,
      "metadata": {
        "id": "uoA8Ov5RxD1b"
      },
      "outputs": [],
      "source": []
    },
    {
      "cell_type": "markdown",
      "metadata": {
        "id": "TF6ea9mAtDDg"
      },
      "source": [
        "b. What percentage of males and females are married?"
      ]
    },
    {
      "cell_type": "code",
      "execution_count": null,
      "metadata": {
        "id": "qMtCmsG8xkig"
      },
      "outputs": [],
      "source": [
        "# you can count the numerator and the denominator separately and just divide the two numbers\n"
      ]
    },
    {
      "cell_type": "code",
      "execution_count": null,
      "metadata": {
        "id": "4cCfyYq1xkXY"
      },
      "outputs": [],
      "source": []
    },
    {
      "cell_type": "code",
      "execution_count": null,
      "metadata": {
        "id": "sTEGLV_ytEDe"
      },
      "outputs": [],
      "source": []
    },
    {
      "cell_type": "code",
      "execution_count": null,
      "metadata": {
        "id": "WA4LqqOexdyA"
      },
      "outputs": [],
      "source": []
    },
    {
      "cell_type": "markdown",
      "metadata": {
        "id": "2gewMYm_xqlf"
      },
      "source": [
        "c. Of the 10 individuals with the highest income, how many are married males?"
      ]
    },
    {
      "cell_type": "code",
      "execution_count": null,
      "metadata": {
        "id": "dPRu9zZCx1Co"
      },
      "outputs": [],
      "source": [
        "# Isolate top 10 income individuals and assign it to a new dataset (e.g.: top10_income = ...)\n",
        "\n"
      ]
    },
    {
      "cell_type": "code",
      "execution_count": null,
      "metadata": {
        "id": "U-x1vaCazRWJ"
      },
      "outputs": [],
      "source": [
        "# Subset for married and male from isolated dataset and count  ( put .count() at the end of query)\n"
      ]
    },
    {
      "cell_type": "markdown",
      "metadata": {
        "id": "LxPeFSGn3CUq"
      },
      "source": [
        "d. What are the highest and the lowest incomes of males and females?"
      ]
    },
    {
      "cell_type": "code",
      "execution_count": null,
      "metadata": {
        "id": "IB0Z8tal4KeR"
      },
      "outputs": [],
      "source": [
        "# YOu can create sorted tables and read off the values\n"
      ]
    },
    {
      "cell_type": "code",
      "execution_count": null,
      "metadata": {
        "id": "z11HhjWA3EQI"
      },
      "outputs": [],
      "source": []
    },
    {
      "cell_type": "markdown",
      "metadata": {
        "id": "LiooOwJ43EkR"
      },
      "source": [
        "e. What are the highest and lowest incomes of married and unmarried males?"
      ]
    },
    {
      "cell_type": "code",
      "execution_count": null,
      "metadata": {
        "id": "-3G4lZqg3GBQ"
      },
      "outputs": [],
      "source": []
    },
    {
      "cell_type": "code",
      "execution_count": null,
      "metadata": {
        "id": "lls-4QS54ihR"
      },
      "outputs": [],
      "source": []
    }
  ],
  "metadata": {
    "colab": {
      "provenance": []
    },
    "kernelspec": {
      "display_name": "base",
      "language": "python",
      "name": "python3"
    },
    "language_info": {
      "codemirror_mode": {
        "name": "ipython",
        "version": 3
      },
      "file_extension": ".py",
      "mimetype": "text/x-python",
      "name": "python",
      "nbconvert_exporter": "python",
      "pygments_lexer": "ipython3",
      "version": "3.9.7"
    },
    "vscode": {
      "interpreter": {
        "hash": "9fcada7c989b17d472f55092813a217c90fe5c9503e473675e4175407fbcba30"
      }
    }
  },
  "nbformat": 4,
  "nbformat_minor": 0
}
